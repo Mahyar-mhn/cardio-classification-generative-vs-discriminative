{
 "cells": [
  {
   "cell_type": "markdown",
   "id": "bbafdd71",
   "metadata": {},
   "source": [
    "# Programming Solutions: Discriminative vs Generative Models\n",
    "**Course:** Artificial Intelligence (2025) · Shiraz University"
   ]
  },
  {
   "cell_type": "markdown",
   "id": "3d27de3a",
   "metadata": {},
   "source": [
    "## Task 1 – Data Exploration & Gaussian Fitting\n",
    "**Bullet‐by‐bullet requirements**\n",
    "1. Handle missing or invalid values via deletion or imputation.\n",
    "2. Plot distributions (histogram or KDE) of all features per class.\n",
    "3. Select two informative features (e.g. `chol` and `thalach`).\n",
    "4. Fit **2‑D Gaussian** distributions (one per class) and plot contour maps.\n",
    "5. Evaluate Gaussian assumption via plots and (optional) normality tests."
   ]
  },
  {
   "metadata": {
    "ExecuteTime": {
     "end_time": "2025-07-23T07:30:32.997084Z",
     "start_time": "2025-07-23T07:30:32.989588Z"
    }
   },
   "cell_type": "code",
   "source": [
    "import numpy as np\n",
    "import pandas as pd\n",
    "import matplotlib.pyplot as plt\n",
    "import seaborn as sns\n",
    "\n",
    "#########################\n",
    "# 1) Load & clean data  #\n",
    "#########################\n",
    "PATH = 'data/heart_disease_uci.csv'\n",
    "df = pd.read_csv(PATH)\n",
    "\n",
    "print(f'Dataset shape: {df.shape}')"
   ],
   "id": "6a5c1dbbf6ea6c8",
   "outputs": [
    {
     "name": "stdout",
     "output_type": "stream",
     "text": [
      "Dataset shape: (920, 16)\n"
     ]
    }
   ],
   "execution_count": 10
  },
  {
   "metadata": {
    "ExecuteTime": {
     "end_time": "2025-07-23T07:30:33.049487Z",
     "start_time": "2025-07-23T07:30:33.045950Z"
    }
   },
   "cell_type": "code",
   "source": [
    "import warnings\n",
    "warnings.filterwarnings('ignore')"
   ],
   "id": "a459ac527a84972d",
   "outputs": [],
   "execution_count": 11
  },
  {
   "metadata": {
    "ExecuteTime": {
     "end_time": "2025-07-23T07:30:33.073647Z",
     "start_time": "2025-07-23T07:30:33.068188Z"
    }
   },
   "cell_type": "code",
   "source": [
    "# extract the target column\n",
    "df[\"num\"] = df[\"num\"].apply(lambda x: 1 if x > 0 else 0)\n",
    "df.num.head()"
   ],
   "id": "ef7bffe1090c334a",
   "outputs": [
    {
     "data": {
      "text/plain": [
       "0    0\n",
       "1    1\n",
       "2    1\n",
       "3    0\n",
       "4    0\n",
       "Name: num, dtype: int64"
      ]
     },
     "execution_count": 12,
     "metadata": {},
     "output_type": "execute_result"
    }
   ],
   "execution_count": 12
  },
  {
   "metadata": {
    "ExecuteTime": {
     "end_time": "2025-07-23T07:30:33.136029Z",
     "start_time": "2025-07-23T07:30:33.130862Z"
    }
   },
   "cell_type": "code",
   "source": "df.isnull().sum()",
   "id": "fb6e3ad2f40e4574",
   "outputs": [
    {
     "data": {
      "text/plain": [
       "id            0\n",
       "age           0\n",
       "sex           0\n",
       "dataset       0\n",
       "cp            0\n",
       "trestbps     59\n",
       "chol         30\n",
       "fbs          90\n",
       "restecg       2\n",
       "thalch       55\n",
       "exang        55\n",
       "oldpeak      62\n",
       "slope       309\n",
       "ca          611\n",
       "thal        486\n",
       "num           0\n",
       "dtype: int64"
      ]
     },
     "execution_count": 13,
     "metadata": {},
     "output_type": "execute_result"
    }
   ],
   "execution_count": 13
  },
  {
   "metadata": {},
   "cell_type": "markdown",
   "source": [
    "### Handling Missing Data: Rationale\n",
    "\n",
    "We applied different strategies for handling missing data based on the proportion of missing values and the nature of each column:\n",
    "\n",
    "#### ✅ Imputed Columns:\n",
    "- **`trestbps`**, **`chol`**, **`thalch`**, **`oldpeak`**:\n",
    "  These are numerical columns with relatively low missingness (<10%).\n",
    "  ➤ Imputed using **median** to avoid skewing distributions.\n",
    "\n",
    "- **`fbs`**, **`restecg`**, **`exang`**:\n",
    "  These are categorical (or binary-like) columns with manageable missingness.\n",
    "  ➤ Imputed using **mode** (most frequent value).\n",
    "\n",
    "#### ❌ Dropped Columns:\n",
    "- **`slope`** (~34% missing), **`ca`** (~66% missing), **`thal`** (~53% missing):\n",
    "  These columns have a **high percentage of missing values**, making imputation unreliable and potentially biased.\n",
    "  ➤ Chosen to **drop** these columns to maintain data integrity.\n",
    "\n",
    "This approach balances preserving valuable data while avoiding distortion due to excessive imputation.\n"
   ],
   "id": "f4d67df98f3f0440"
  },
  {
   "metadata": {
    "ExecuteTime": {
     "end_time": "2025-07-23T07:30:33.237728Z",
     "start_time": "2025-07-23T07:30:33.229150Z"
    }
   },
   "cell_type": "code",
   "source": [
    "# Handle missing data: impute or delete based on proportion and type\n",
    "\n",
    "# Impute numeric columns with median\n",
    "df['trestbps'].fillna(df['trestbps'].median(), inplace=True)  # ~6% missing\n",
    "df['chol'].fillna(df['chol'].median(), inplace=True)          # ~3% missing\n",
    "df['thalch'].fillna(df['thalch'].median(), inplace=True)      # ~6% missing\n",
    "df['oldpeak'].fillna(df['oldpeak'].median(), inplace=True)    # ~7% missing\n",
    "\n",
    "# Impute categorical columns with mode\n",
    "df['fbs'].fillna(df['fbs'].mode()[0], inplace=True)            # ~10% missing\n",
    "df['restecg'].fillna(df['restecg'].mode()[0], inplace=True)    # <1% missing\n",
    "df['exang'].fillna(df['exang'].mode()[0], inplace=True)        # ~6% missing\n",
    "\n",
    "# Drop columns with high missingness\n",
    "df.drop(columns=['slope', 'ca', 'thal'], inplace=True)         # >30% missing\n",
    "\n",
    "# Final check\n",
    "print(\"Remaining missing values:\\n\", df.isnull().sum())\n"
   ],
   "id": "95c6d61a926ed1d4",
   "outputs": [
    {
     "name": "stdout",
     "output_type": "stream",
     "text": [
      "Remaining missing values:\n",
      " id          0\n",
      "age         0\n",
      "sex         0\n",
      "dataset     0\n",
      "cp          0\n",
      "trestbps    0\n",
      "chol        0\n",
      "fbs         0\n",
      "restecg     0\n",
      "thalch      0\n",
      "exang       0\n",
      "oldpeak     0\n",
      "num         0\n",
      "dtype: int64\n"
     ]
    }
   ],
   "execution_count": 14
  },
  {
   "metadata": {
    "ExecuteTime": {
     "end_time": "2025-07-23T07:30:33.316724Z",
     "start_time": "2025-07-23T07:30:33.314130Z"
    }
   },
   "cell_type": "code",
   "source": "",
   "id": "93930deabe3cf588",
   "outputs": [],
   "execution_count": null
  }
 ],
 "metadata": {
  "kernelspec": {
   "name": "python3",
   "language": "python",
   "display_name": "Python 3 (ipykernel)"
  }
 },
 "nbformat": 4,
 "nbformat_minor": 5
}
